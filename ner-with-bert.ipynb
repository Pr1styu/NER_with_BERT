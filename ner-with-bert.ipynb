{
  "cells": [
    {
      "cell_type": "markdown",
      "metadata": {
        "id": "view-in-github",
        "colab_type": "text"
      },
      "source": [
        "<a href=\"https://colab.research.google.com/gist/mucsacso03/49ac4aedb2c4a08a210567f8c8d62cb1/ner-with-bert.ipynb\" target=\"_parent\"><img src=\"https://colab.research.google.com/assets/colab-badge.svg\" alt=\"Open In Colab\"/></a>"
      ]
    },
    {
      "cell_type": "markdown",
      "metadata": {
        "id": "s-YKOV_k0wRO"
      },
      "source": [
        "# Data Loading"
      ]
    },
    {
      "cell_type": "markdown",
      "metadata": {
        "id": "6dIZGXjb1LNX"
      },
      "source": [
        ""
      ]
    },
    {
      "cell_type": "code",
      "execution_count": null,
      "metadata": {
        "colab": {
          "base_uri": "https://localhost:8080/"
        },
        "id": "Pk4dYCOI6iC-",
        "outputId": "ccacb751-66a1-4189-8cb2-bac07e4e0866"
      },
      "outputs": [
        {
          "output_type": "stream",
          "name": "stdout",
          "text": [
            "Requirement already satisfied: transformers in /usr/local/lib/python3.7/dist-packages (4.13.0)\n",
            "Requirement already satisfied: numpy>=1.17 in /usr/local/lib/python3.7/dist-packages (from transformers) (1.19.5)\n",
            "Requirement already satisfied: tokenizers<0.11,>=0.10.1 in /usr/local/lib/python3.7/dist-packages (from transformers) (0.10.3)\n",
            "Requirement already satisfied: importlib-metadata in /usr/local/lib/python3.7/dist-packages (from transformers) (4.8.2)\n",
            "Requirement already satisfied: tqdm>=4.27 in /usr/local/lib/python3.7/dist-packages (from transformers) (4.62.3)\n",
            "Requirement already satisfied: requests in /usr/local/lib/python3.7/dist-packages (from transformers) (2.23.0)\n",
            "Requirement already satisfied: sacremoses in /usr/local/lib/python3.7/dist-packages (from transformers) (0.0.46)\n",
            "Requirement already satisfied: filelock in /usr/local/lib/python3.7/dist-packages (from transformers) (3.4.0)\n",
            "Requirement already satisfied: huggingface-hub<1.0,>=0.1.0 in /usr/local/lib/python3.7/dist-packages (from transformers) (0.2.1)\n",
            "Requirement already satisfied: regex!=2019.12.17 in /usr/local/lib/python3.7/dist-packages (from transformers) (2019.12.20)\n",
            "Requirement already satisfied: packaging>=20.0 in /usr/local/lib/python3.7/dist-packages (from transformers) (21.3)\n",
            "Requirement already satisfied: pyyaml>=5.1 in /usr/local/lib/python3.7/dist-packages (from transformers) (6.0)\n",
            "Requirement already satisfied: typing-extensions>=3.7.4.3 in /usr/local/lib/python3.7/dist-packages (from huggingface-hub<1.0,>=0.1.0->transformers) (3.10.0.2)\n",
            "Requirement already satisfied: pyparsing!=3.0.5,>=2.0.2 in /usr/local/lib/python3.7/dist-packages (from packaging>=20.0->transformers) (3.0.6)\n",
            "Requirement already satisfied: zipp>=0.5 in /usr/local/lib/python3.7/dist-packages (from importlib-metadata->transformers) (3.6.0)\n",
            "Requirement already satisfied: idna<3,>=2.5 in /usr/local/lib/python3.7/dist-packages (from requests->transformers) (2.10)\n",
            "Requirement already satisfied: chardet<4,>=3.0.2 in /usr/local/lib/python3.7/dist-packages (from requests->transformers) (3.0.4)\n",
            "Requirement already satisfied: urllib3!=1.25.0,!=1.25.1,<1.26,>=1.21.1 in /usr/local/lib/python3.7/dist-packages (from requests->transformers) (1.24.3)\n",
            "Requirement already satisfied: certifi>=2017.4.17 in /usr/local/lib/python3.7/dist-packages (from requests->transformers) (2021.10.8)\n",
            "Requirement already satisfied: click in /usr/local/lib/python3.7/dist-packages (from sacremoses->transformers) (7.1.2)\n",
            "Requirement already satisfied: six in /usr/local/lib/python3.7/dist-packages (from sacremoses->transformers) (1.15.0)\n",
            "Requirement already satisfied: joblib in /usr/local/lib/python3.7/dist-packages (from sacremoses->transformers) (1.1.0)\n"
          ]
        }
      ],
      "source": [
        "!pip install transformers"
      ]
    },
    {
      "cell_type": "code",
      "execution_count": null,
      "metadata": {
        "colab": {
          "base_uri": "https://localhost:8080/"
        },
        "id": "UamNQ_JY5jwe",
        "outputId": "dd46fa8c-44ee-4298-952e-a7e17160c52c"
      },
      "outputs": [
        {
          "output_type": "stream",
          "name": "stdout",
          "text": [
            "--2021-12-12 21:20:35--  http://hlt.sztaki.hu/resources/hunnerwiki/huwiki.1.ner.tsv.gz\n",
            "Resolving hlt.sztaki.hu (hlt.sztaki.hu)... 195.111.2.4\n",
            "Connecting to hlt.sztaki.hu (hlt.sztaki.hu)|195.111.2.4|:80... connected.\n",
            "HTTP request sent, awaiting response... 200 OK\n",
            "Length: 42225789 (40M) [application/x-gzip]\n",
            "Saving to: ‘huwiki.1.ner.tsv.gz’\n",
            "\n",
            "huwiki.1.ner.tsv.gz 100%[===================>]  40.27M  14.6MB/s    in 2.8s    \n",
            "\n",
            "2021-12-12 21:20:38 (14.6 MB/s) - ‘huwiki.1.ner.tsv.gz’ saved [42225789/42225789]\n",
            "\n",
            "--2021-12-12 21:20:38--  http://hlt.sztaki.hu/resources/hunnerwiki/huwiki.2.ner.tsv.gz\n",
            "Resolving hlt.sztaki.hu (hlt.sztaki.hu)... 195.111.2.4\n",
            "Connecting to hlt.sztaki.hu (hlt.sztaki.hu)|195.111.2.4|:80... connected.\n",
            "HTTP request sent, awaiting response... 200 OK\n",
            "Length: 28227004 (27M) [application/x-gzip]\n",
            "Saving to: ‘huwiki.2.ner.tsv.gz’\n",
            "\n",
            "huwiki.2.ner.tsv.gz 100%[===================>]  26.92M  12.5MB/s    in 2.2s    \n",
            "\n",
            "2021-12-12 21:20:41 (12.5 MB/s) - ‘huwiki.2.ner.tsv.gz’ saved [28227004/28227004]\n",
            "\n",
            "--2021-12-12 21:20:41--  http://hlt.sztaki.hu/resources/hunnerwiki/huwiki.3.ner.tsv.gz\n",
            "Resolving hlt.sztaki.hu (hlt.sztaki.hu)... 195.111.2.4\n",
            "Connecting to hlt.sztaki.hu (hlt.sztaki.hu)|195.111.2.4|:80... connected.\n",
            "HTTP request sent, awaiting response... 200 OK\n",
            "Length: 22246852 (21M) [application/x-gzip]\n",
            "Saving to: ‘huwiki.3.ner.tsv.gz’\n",
            "\n",
            "huwiki.3.ner.tsv.gz 100%[===================>]  21.22M  10.8MB/s    in 2.0s    \n",
            "\n",
            "2021-12-12 21:20:43 (10.8 MB/s) - ‘huwiki.3.ner.tsv.gz’ saved [22246852/22246852]\n",
            "\n",
            "--2021-12-12 21:20:43--  http://hlt.sztaki.hu/resources/hunnerwiki/huwiki.4.ner.tsv.gz\n",
            "Resolving hlt.sztaki.hu (hlt.sztaki.hu)... 195.111.2.4\n",
            "Connecting to hlt.sztaki.hu (hlt.sztaki.hu)|195.111.2.4|:80... connected.\n",
            "HTTP request sent, awaiting response... 200 OK\n",
            "Length: 18648443 (18M) [application/x-gzip]\n",
            "Saving to: ‘huwiki.4.ner.tsv.gz’\n",
            "\n",
            "huwiki.4.ner.tsv.gz 100%[===================>]  17.78M  10.3MB/s    in 1.7s    \n",
            "\n",
            "2021-12-12 21:20:45 (10.3 MB/s) - ‘huwiki.4.ner.tsv.gz’ saved [18648443/18648443]\n",
            "\n"
          ]
        }
      ],
      "source": [
        "!wget http://hlt.sztaki.hu/resources/hunnerwiki/huwiki.1.ner.tsv.gz\n",
        "!wget http://hlt.sztaki.hu/resources/hunnerwiki/huwiki.2.ner.tsv.gz\n",
        "!wget http://hlt.sztaki.hu/resources/hunnerwiki/huwiki.3.ner.tsv.gz\n",
        "!wget http://hlt.sztaki.hu/resources/hunnerwiki/huwiki.4.ner.tsv.gz"
      ]
    },
    {
      "cell_type": "code",
      "execution_count": null,
      "metadata": {
        "id": "T0_F0wSe5lcj",
        "colab": {
          "base_uri": "https://localhost:8080/"
        },
        "outputId": "fe7b8ce3-1182-476f-9339-1c2027de12dd"
      },
      "outputs": [
        {
          "output_type": "stream",
          "name": "stdout",
          "text": [
            "gzip: huwiki.1.ner.tsv already exists; do you wish to overwrite (y or n)? n\n",
            "\tnot overwritten\n",
            "gzip: huwiki.2.ner.tsv already exists; do you wish to overwrite (y or n)? n\n",
            "\tnot overwritten\n",
            "gzip: huwiki.3.ner.tsv already exists; do you wish to overwrite (y or n)? n\n",
            "\tnot overwritten\n",
            "gzip: huwiki.4.ner.tsv already exists; do you wish to overwrite (y or n)? n\n",
            "\tnot overwritten\n"
          ]
        }
      ],
      "source": [
        "!gunzip huwiki.1.ner.tsv.gz\n",
        "!gunzip huwiki.2.ner.tsv.gz\n",
        "!gunzip huwiki.3.ner.tsv.gz\n",
        "!gunzip huwiki.4.ner.tsv.gz"
      ]
    },
    {
      "cell_type": "code",
      "execution_count": null,
      "metadata": {
        "colab": {
          "base_uri": "https://localhost:8080/"
        },
        "id": "2Ara3NJduuAQ",
        "outputId": "32e34f06-e5c9-4060-996f-ac9056a94f9f"
      },
      "outputs": [
        {
          "output_type": "execute_result",
          "data": {
            "text/plain": [
              "100000000"
            ]
          },
          "metadata": {},
          "execution_count": 24
        }
      ],
      "source": [
        "import csv\n",
        "import pandas as pd\n",
        "from tqdm.auto import tqdm\n",
        "import tensorflow as tf\n",
        "import math\n",
        "from os.path import exists\n",
        "sep = '\\t'\n",
        "\n",
        "csv.field_size_limit(100000000)"
      ]
    },
    {
      "cell_type": "code",
      "execution_count": null,
      "metadata": {
        "colab": {
          "base_uri": "https://localhost:8080/",
          "height": 104,
          "referenced_widgets": [
            "c1192d3887b048588f8576d733eeea82",
            "03c8b79a73ec4bb7ade84efbbfb5aaf8",
            "74db779f48af4bef85d56f2218693b74",
            "367ae005a52e4bc19f6c1d64a005c241",
            "0838ebaf2b1d4a3b8407605df830e98f",
            "8dbf0632702345eab639e7fff595734a",
            "09542c42e3a44fb6922b1f8b632a9238",
            "20ff429b843e417b98689962ecac52de",
            "2f9ef8c9d4a3488b85c139bb2147585e",
            "beb1b0f0d93e412c9b61f0b4d57b4b5a",
            "f7786dbbc22f4886a6283053fb17362c"
          ]
        },
        "id": "AE-gjFqe5Cfc",
        "outputId": "f9e5ee57-ff0c-4ada-aad2-2d377ff2c152"
      },
      "outputs": [
        {
          "output_type": "stream",
          "name": "stdout",
          "text": [
            "Reading data!\n",
            "Reading data finished!\n",
            "Splitting rows! 0\n"
          ]
        },
        {
          "output_type": "display_data",
          "data": {
            "application/vnd.jupyter.widget-view+json": {
              "model_id": "c1192d3887b048588f8576d733eeea82",
              "version_minor": 0,
              "version_major": 2
            },
            "text/plain": [
              "  0%|          | 0/20408553 [00:00<?, ?it/s]"
            ]
          },
          "metadata": {}
        }
      ],
      "source": [
        "print('Reading data!')\n",
        "tsv_file = open(\"huwiki.1.ner.tsv\", encoding='utf-8')\n",
        "data = tsv_file.read().split(\"\\n\")\n",
        "tsv_file = open(\"huwiki.2.ner.tsv\", encoding='utf-8')\n",
        "data +=tsv_file.read().split(\"\\n\")\n",
        "tsv_file = open(\"huwiki.3.ner.tsv\", encoding='utf-8')\n",
        "data += tsv_file.read().split(\"\\n\")\n",
        "tsv_file = open(\"huwiki.4.ner.tsv\", encoding='utf-8')\n",
        "data += tsv_file.read().split(\"\\n\")\n",
        "print('Reading data finished!')\n",
        "\n",
        "\n",
        "# Making dataset\n",
        "output = open('data.csv', 'w', encoding='utf-8')\n",
        "i = 0\n",
        "sentence = 0\n",
        "read_tsv = []\n",
        "print('Splitting rows!', len(read_tsv))\n",
        "for row in tqdm(data):\n",
        "    if len(row)==6 and row[0]=='\"':\n",
        "      print(row)\n",
        "    else:\n",
        "      read_tsv.append(row.split(sep))\n",
        "print('Splitting rows finished!', len(read_tsv))"
      ]
    },
    {
      "cell_type": "code",
      "execution_count": null,
      "metadata": {
        "id": "dIsrFVJJ5GZl"
      },
      "outputs": [],
      "source": [
        "import os\n",
        "print('Making output data!')\n",
        "out = []\n",
        "out_sentences = []\n",
        "os.makedirs('./sentences', exist_ok=True)\n",
        "file_count = 1\n",
        "for row in tqdm(read_tsv):\n",
        "\n",
        "    if len(row) == 6:\n",
        "        output.write(str(i) + sep+sep+sep\n",
        "                      + str(sentence) + sep+sep+sep\n",
        "                      + row[0] + sep+sep+sep\n",
        "                      + row[5] + '\\n')\n",
        "        i += 1\n",
        "        out.append(row[0])\n",
        "    elif len(row) == 1:\n",
        "        sentence += 1\n",
        "        out_sentences.append(' '.join(out))\n",
        "        out = []\n",
        "        if(sentence % 5000 == 0):\n",
        "          with open(f'./sentences/text_{file_count}.txt', 'w', encoding='utf-8') as fp:\n",
        "           fp.write('\\n'.join(out_sentences))\n",
        "           out_sentences = []\n",
        "           file_count += 1\n",
        "\n",
        "with open(f'./sentences/text_{file_count}.txt', 'w', encoding='utf-8') as fp:\n",
        "            fp.write('\\n'.join(out_sentences))\n",
        "out_sentences = []\n",
        "print('Making output data finished!', i, len(read_tsv))\n",
        "output.close()\n",
        "read_tsv = []"
      ]
    },
    {
      "cell_type": "code",
      "execution_count": null,
      "metadata": {
        "id": "bNUn_kxIuthA"
      },
      "outputs": [],
      "source": [
        "data = pd.read_csv(\"data.csv\", sep=sep+sep+sep, header=None, engine='python', encoding=\"UTF-8\")"
      ]
    },
    {
      "cell_type": "code",
      "execution_count": null,
      "metadata": {
        "id": "bwymUi5dwCW5"
      },
      "outputs": [],
      "source": [
        "  data.rename(columns = {data.columns[0]: 'Index'},  inplace=True)\n",
        "  data.rename(columns = {data.columns[1]: 'Sentence'},  inplace=True)\n",
        "  data.rename(columns = {data.columns[2]: 'Word'},  inplace=True)\n",
        "  data.rename(columns = {data.columns[3]: 'Tag'},  inplace=True)"
      ]
    },
    {
      "cell_type": "code",
      "execution_count": null,
      "metadata": {
        "id": "LxJr9iF6zqOd"
      },
      "outputs": [],
      "source": [
        "import matplotlib.pyplot as plt\n",
        "import seaborn as sns\n",
        "plt.figure(figsize=(15, 5))\n",
        "ax = sns.countplot('Tag', data=data)\n",
        "ax.set_xticklabels(ax.get_xticklabels(), rotation=90, ha=\"center\")\n",
        "plt.tight_layout()\n",
        "plt.show()"
      ]
    },
    {
      "cell_type": "code",
      "execution_count": null,
      "metadata": {
        "id": "6wObLgnKuuog"
      },
      "outputs": [],
      "source": [
        "row_count = data.shape[0]\n",
        "data = data[data.Tag != 'O']\n",
        "tag_list=data.Tag.unique()\n",
        "print(tag_list)\n",
        "label_map = {label: i for i, label in enumerate(tag_list)}\n",
        "\n",
        "num_labels = len(tag_list)\n",
        "num_labels"
      ]
    },
    {
      "cell_type": "code",
      "execution_count": null,
      "metadata": {
        "id": "NDfSUGSGzI8k"
      },
      "outputs": [],
      "source": [
        "plt.figure(figsize=(15, 5))\n",
        "ax = sns.countplot('Tag', data=data.loc[data['Tag'] != 'O'])\n",
        "ax.set_xticklabels(ax.get_xticklabels(), rotation=90, ha=\"center\")\n",
        "plt.tight_layout()\n",
        "plt.show()"
      ]
    },
    {
      "cell_type": "markdown",
      "metadata": {
        "id": "Rtxy3S3Z1NX6"
      },
      "source": [
        ""
      ]
    },
    {
      "cell_type": "markdown",
      "metadata": {
        "id": "gejEtBv93-PI"
      },
      "source": [
        "# Transforming data"
      ]
    },
    {
      "cell_type": "code",
      "execution_count": null,
      "metadata": {
        "id": "oG3Jd2iDuwwW"
      },
      "outputs": [],
      "source": [
        "data = []"
      ]
    },
    {
      "cell_type": "code",
      "execution_count": null,
      "metadata": {
        "id": "5UOUSxWBX5vR"
      },
      "outputs": [],
      "source": [
        "agg_func = lambda s: [ [w,t] for w,t in zip(s[\"Word\"].values.tolist(),s[\"Tag\"].values.tolist())]"
      ]
    },
    {
      "cell_type": "code",
      "execution_count": null,
      "metadata": {
        "id": "fPbX7x_BmqBa"
      },
      "outputs": [],
      "source": [
        "from transformers import (\n",
        "    TF2_WEIGHTS_NAME,\n",
        "    BertConfig,\n",
        "    BertTokenizer,\n",
        "    TFBertForTokenClassification,\n",
        "    create_optimizer)"
      ]
    },
    {
      "cell_type": "code",
      "execution_count": null,
      "metadata": {
        "id": "_I3yNzJypt7l"
      },
      "outputs": [],
      "source": [
        "MODEL_CLASSES = {\"bert\": (BertConfig, TFBertForTokenClassification, BertTokenizer)}"
      ]
    },
    {
      "cell_type": "code",
      "execution_count": null,
      "metadata": {
        "id": "_w_-XnLpZkyV"
      },
      "outputs": [],
      "source": [
        "config_class, model_class, tokenizer_class = MODEL_CLASSES['bert']"
      ]
    },
    {
      "cell_type": "code",
      "execution_count": null,
      "metadata": {
        "id": "_Q0vBJJDt3nm"
      },
      "outputs": [],
      "source": [
        "BERT_MODEL=\"bert-base-cased\""
      ]
    },
    {
      "cell_type": "code",
      "execution_count": null,
      "metadata": {
        "id": "GsAB-noNyWgW"
      },
      "outputs": [],
      "source": [
        "config = config_class.from_pretrained(BERT_MODEL,num_labels=num_labels)"
      ]
    },
    {
      "cell_type": "code",
      "execution_count": null,
      "metadata": {
        "id": "rApjpnPZCEKY"
      },
      "outputs": [],
      "source": [
        "tokenizer = tokenizer_class.from_pretrained(BERT_MODEL,do_lower_case=False)"
      ]
    },
    {
      "cell_type": "code",
      "execution_count": null,
      "metadata": {
        "id": "4JqbsiKfq8Vu"
      },
      "outputs": [],
      "source": [
        "def isNaN(string):\n",
        "    return string != string"
      ]
    },
    {
      "cell_type": "code",
      "execution_count": null,
      "metadata": {
        "id": "Re-k9vTY_d2k"
      },
      "outputs": [],
      "source": [
        "from keras.preprocessing.sequence import pad_sequences\n",
        "max_seq_length =128\n",
        "pad_token_label_id = 0\n",
        "def convert_to_input(sentences,tags):\n",
        "  input_id_list,attention_mask_list,token_type_id_list=[],[],[]\n",
        "  label_id_list=[]\n",
        "  \n",
        "  for x,y in tqdm(zip(sentences,tags),total=len(tags)):\n",
        "    try:\n",
        "      tokens = []\n",
        "      label_ids = []\n",
        "\n",
        "      for word, label in zip(x, y):\n",
        "        if(isNaN(word)):\n",
        "          word = 'nan'\n",
        "        word_tokens = tokenizer.tokenize(word)\n",
        "        tokens.extend(word_tokens)\n",
        "        label_ids.extend([label_map[label]] + [pad_token_label_id] * (len(word_tokens) - 1))\n",
        "\n",
        "    \n",
        "      special_tokens_count =  2\n",
        "      if len(tokens) > max_seq_length - special_tokens_count:\n",
        "        tokens = tokens[: (max_seq_length - special_tokens_count)]\n",
        "        label_ids = label_ids[: (max_seq_length - special_tokens_count)]\n",
        "\n",
        "      label_ids = [pad_token_label_id]+label_ids+[pad_token_label_id]\n",
        "      inputs = tokenizer.encode_plus(tokens,add_special_tokens=True, max_length=max_seq_length, truncation=True,is_split_into_words=True)\n",
        "\n",
        "      input_ids, token_type_ids = inputs[\"input_ids\"], inputs[\"token_type_ids\"]\n",
        "      attention_masks = [1] * len(input_ids)\n",
        "\n",
        "      attention_mask_list.append(attention_masks)\n",
        "      input_id_list.append(input_ids)\n",
        "      token_type_id_list.append(token_type_ids)\n",
        "\n",
        "      label_id_list.append(label_ids)\n",
        "    except TypeError as e:\n",
        "      print(x)\n",
        "  return input_id_list,token_type_id_list,attention_mask_list,label_id_list\n"
      ]
    },
    {
      "cell_type": "code",
      "execution_count": null,
      "metadata": {
        "id": "o1_dVK4IrrCh"
      },
      "outputs": [],
      "source": [
        "def example_to_features(input_ids,attention_masks,token_type_ids,y):\n",
        "  return {\"input_ids\": input_ids,\n",
        "          \"attention_mask\": attention_masks,\n",
        "          \"token_type_ids\": token_type_ids},y"
      ]
    },
    {
      "cell_type": "code",
      "execution_count": null,
      "metadata": {
        "id": "LUj_t2Zwo2om"
      },
      "outputs": [],
      "source": [
        "def transform_data(data):\n",
        "  nb_samples = len(data)\n",
        "  valid_split = 0.2\n",
        "  test_split = 0.1\n",
        "\n",
        "  X_train = data[0:int(nb_samples*(1-valid_split-test_split))]\n",
        "  X_valid = data[int(nb_samples*(1-valid_split-test_split)):int(nb_samples*(1-test_split))]\n",
        "\n",
        "  print('Data len',len(data))\n",
        "  print('Train set len',len(X_train))\n",
        "  print('Validation set len',len(X_valid))\n",
        "  data = []\n",
        "  print(\"Grouping sentences and tags together... \")\n",
        "  x_train_grouped = X_train.groupby(\"Sentence\").apply(agg_func)\n",
        "  x_val_grouped = X_valid.groupby(\"Sentence\").apply(agg_func)\n",
        "  #x_test_grouped = X_test.groupby(\"Sentence\").apply(agg_func)\n",
        "\n",
        "  x_train_sentences = [[s[0] for s in sent] for sent in x_train_grouped.values]\n",
        "  x_val_sentences = [[s[0] for s in sent] for sent in x_val_grouped.values]\n",
        "  #x_test_sentences = [[s[0] for s in sent] for sent in x_test_grouped.values]\n",
        "\n",
        "  x_train_tags = [[t[1] for t in tag] for tag in x_train_grouped.values]\n",
        "  x_val_tags = [[t[1] for t in tag] for tag in x_val_grouped.values]\n",
        "  #x_test_tags = [[t[1] for t in tag] for tag in x_test_grouped.values]\n",
        "  X_train = []\n",
        "  X_valid = []\n",
        "\n",
        "  print(\"Convering sentences and tags to input: \")\n",
        "  input_ids_train,token_ids_train,attention_masks_train,label_ids_train=convert_to_input(x_train_sentences,x_train_tags)\n",
        "  input_ids_val,token_ids_val,attention_masks_val,label_ids_val=convert_to_input(x_val_sentences,x_val_tags)\n",
        "\n",
        "  print(\"Padding inputs... \")\n",
        "  input_ids_train = pad_sequences(input_ids_train,maxlen=max_seq_length,dtype=\"long\",truncating=\"post\",padding=\"post\")\n",
        "  token_ids_train = pad_sequences(token_ids_train,maxlen=max_seq_length,dtype=\"long\",truncating=\"post\",padding=\"post\")\n",
        "  attention_masks_train = pad_sequences(attention_masks_train,maxlen=max_seq_length,dtype=\"long\",truncating=\"post\",padding=\"post\")\n",
        "  label_ids_train = pad_sequences(label_ids_train,maxlen=max_seq_length,dtype=\"long\",truncating=\"post\",padding=\"post\")\n",
        "\n",
        "  input_ids_val = pad_sequences(input_ids_val,maxlen=max_seq_length,dtype=\"long\",truncating=\"post\",padding=\"post\")\n",
        "  token_ids_val = pad_sequences(token_ids_val,maxlen=max_seq_length,dtype=\"long\",truncating=\"post\",padding=\"post\")\n",
        "  attention_masks_val = pad_sequences(attention_masks_val,maxlen=max_seq_length,dtype=\"long\",truncating=\"post\",padding=\"post\")\n",
        "  label_ids_val = pad_sequences(label_ids_val,maxlen=max_seq_length,dtype=\"long\",truncating=\"post\",padding=\"post\")\n",
        "\n",
        "  print(\"Creating datasets... \")\n",
        "  train_ds = tf.data.Dataset.from_tensor_slices((input_ids_train,attention_masks_train,token_ids_train,label_ids_train)).map(example_to_features).batch(32)\n",
        "\n",
        "  val_ds = tf.data.Dataset.from_tensor_slices((input_ids_val,attention_masks_val,token_ids_val,label_ids_val)).map(example_to_features).batch(32)\n",
        "\n",
        "  return train_ds, val_ds"
      ]
    },
    {
      "cell_type": "markdown",
      "metadata": {
        "id": "JL4NcPl04Ose"
      },
      "source": [
        "# Training"
      ]
    },
    {
      "cell_type": "code",
      "execution_count": null,
      "metadata": {
        "id": "qVNi2MaRzuEu"
      },
      "outputs": [],
      "source": [
        "optimizer = tf.keras.optimizers.Adam()\n",
        "loss = tf.keras.losses.SparseCategoricalCrossentropy(from_logits=True)\n",
        "metric = tf.keras.metrics.SparseCategoricalAccuracy('accuracy')"
      ]
    },
    {
      "cell_type": "code",
      "execution_count": null,
      "metadata": {
        "id": "neFDtoo0xxvg"
      },
      "outputs": [],
      "source": [
        "model = model_class.from_pretrained(\n",
        "                BERT_MODEL,\n",
        "                from_pt=bool(\".bin\" in BERT_MODEL),\n",
        "                config=config)\n",
        "  model.summary()"
      ]
    },
    {
      "cell_type": "code",
      "execution_count": null,
      "metadata": {
        "id": "0dFE2QZBtA2t"
      },
      "outputs": [],
      "source": [
        "rows = 5000000;\n",
        "for x in range(math.ceil(row_count/rows)):\n",
        "  print(\"Iteration: \",x+1,\"/\",math.ceil(row_count/rows))\n",
        "  data = pd.read_csv(\"data.csv\", sep=sep+sep+sep, header=None, engine='python', encoding=\"UTF-8\", nrows=rows,skiprows=rows*x)\n",
        "  data.rename(columns = {data.columns[0]: 'Index'},  inplace=True)\n",
        "  data.rename(columns = {data.columns[1]: 'Sentence'},  inplace=True)\n",
        "  data.rename(columns = {data.columns[2]: 'Word'},  inplace=True)\n",
        "  data.rename(columns = {data.columns[3]: 'Tag'},  inplace=True)\n",
        "\n",
        "  data = data[data.Tag != 'O']\n",
        "\n",
        "  print(data)\n",
        "\n",
        "  if(x != 0):\n",
        "    model = model_class.from_pretrained('bert-model')\n",
        "\n",
        "  model.compile(optimizer=optimizer, loss=loss, metrics=[metric])\n",
        "\n",
        "  train_ds, val_ds = transform_data(data)\n",
        "  print(\"Staring training: \")\n",
        "  model.fit(train_ds, epochs=1, validation_data=val_ds)\n",
        "  model.save_pretrained('bert-model')\n",
        "  tf.keras.backend.clear_session()"
      ]
    },
    {
      "cell_type": "code",
      "source": [
        "from transformers import TFBertForTokenClassification\n",
        "from transformers import pipeline\n",
        "\n",
        "model = TFBertForTokenClassification.from_pretrained(\"bert-model\")\n",
        "\n"
      ],
      "metadata": {
        "id": "irg2hmcRd2sK"
      },
      "execution_count": null,
      "outputs": []
    },
    {
      "cell_type": "code",
      "source": [
        "from google.colab import drive\n",
        "drive.mount('/content/drive')"
      ],
      "metadata": {
        "id": "nwmIUekNgIrn"
      },
      "execution_count": null,
      "outputs": []
    },
    {
      "cell_type": "code",
      "source": [
        "nlp = pipeline(\"ner\", model=model, tokenizer=tokenizer)\n",
        "example = \"Egyesült\"\n",
        "\n",
        "ner_results = nlp(example)\n",
        "ner_results"
      ],
      "metadata": {
        "id": "DrWRtTjZpQoa"
      },
      "execution_count": null,
      "outputs": []
    },
    {
      "cell_type": "code",
      "source": [
        "import math\n",
        "test_data = []\n",
        "for x in range(math.ceil(row_count/rows)):\n",
        "  print(\"Iteration: \",x+1,\"/\",math.ceil(row_count/rows))\n",
        "  data = pd.read_csv(\"data.csv\", sep=sep+sep+sep, header=None, engine='python', encoding=\"UTF-8\", nrows=rows,skiprows=rows*x)\n",
        "  data.rename(columns = {data.columns[0]: 'Index'},  inplace=True)\n",
        "  data.rename(columns = {data.columns[1]: 'Sentence'},  inplace=True)\n",
        "  data.rename(columns = {data.columns[2]: 'Word'},  inplace=True)\n",
        "  data.rename(columns = {data.columns[3]: 'Tag'},  inplace=True)\n",
        "\n",
        "  data = data[data.Tag != 'O']\n",
        "  #data = data[data.Tag != 'NaN']\n",
        "\n",
        "  nb_samples = len(data)\n",
        "  valid_split = 0.2\n",
        "  test_split = 0.1\n",
        "  if(x == 0):\n",
        "    test_data = data[int(nb_samples*(1-test_split)):]\n",
        "  else:\n",
        "    test_data.append(data[int(nb_samples*(1-test_split)):])\n",
        "\n",
        "print(test_data)"
      ],
      "metadata": {
        "id": "HHjJUyJypS-d"
      },
      "execution_count": null,
      "outputs": []
    },
    {
      "cell_type": "code",
      "source": [
        "print(test_data.iloc[[42]])"
      ],
      "metadata": {
        "id": "yoKFi9xgrWw5"
      },
      "execution_count": null,
      "outputs": []
    },
    {
      "cell_type": "code",
      "source": [
        "import numpy as np\n",
        "all = test_data.shape[0]\n",
        "good = 0\n",
        "nlp = pipeline(\"ner\", model=model, tokenizer=tokenizer)\n",
        "for x in tqdm(range(test_data.shape[0])):\n",
        "  #print(x,'/',all)\n",
        "  text = test_data.iat[x,2]\n",
        "  ner_results = nlp(text)\n",
        "  if(ner_results[0]['entity'][-1] == str(np.where(tag_list == test_data.iat[x,3])[0][0])):\n",
        "    good+=1\n",
        "print('Accuracy: ',good/all)"
      ],
      "metadata": {
        "id": "v5hNaLyWupzk"
      },
      "execution_count": null,
      "outputs": []
    },
    {
      "cell_type": "markdown",
      "metadata": {
        "id": "FLaHLPaoZNJC"
      },
      "source": [
        "# Evaluating the model"
      ]
    },
    {
      "cell_type": "code",
      "execution_count": null,
      "metadata": {
        "id": "2yr5yxnEMKSB"
      },
      "outputs": [],
      "source": [
        "model = model_class.from_pretrained('bert-model')"
      ]
    },
    {
      "cell_type": "code",
      "execution_count": null,
      "metadata": {
        "id": "YoABpXQ4ZMVI"
      },
      "outputs": [],
      "source": [
        "import torch as torch\n",
        "def valid(model, testing_loader):\n",
        "    # put model in evaluation mode\n",
        "    model.eval()\n",
        "    \n",
        "    eval_loss, eval_accuracy = 0, 0\n",
        "    nb_eval_examples, nb_eval_steps = 0, 0\n",
        "    eval_preds, eval_labels = [], []\n",
        "    \n",
        "    with torch.no_grad():\n",
        "        for idx, batch in enumerate(testing_loader):\n",
        "            #input_ids_val,attention_masks_val,token_ids_val,label_ids_val\n",
        "            ids = batch['input_ids'].to(device, dtype = torch.long)\n",
        "            mask = batch['attention_mask'].to(device, dtype = torch.long)\n",
        "            labels = batch['label_ids_val'].to(device, dtype = torch.long)\n",
        "            \n",
        "            loss, eval_logits = model(input_ids=ids, attention_mask=mask, labels=labels)\n",
        "            \n",
        "            eval_loss += loss.item()\n",
        "\n",
        "            nb_eval_steps += 1\n",
        "            nb_eval_examples += labels.size(0)\n",
        "        \n",
        "            if idx % 50==0:\n",
        "                loss_step = eval_loss/nb_eval_steps\n",
        "                print(f\"Validation loss per 100 evaluation steps: {loss_step}\")\n",
        "              \n",
        "            # compute evaluation accuracy\n",
        "            flattened_targets = labels.view(-1) # shape (batch_size * seq_len,)\n",
        "            active_logits = eval_logits.view(-1, model.num_labels) # shape (batch_size * seq_len, num_labels)\n",
        "            flattened_predictions = torch.argmax(active_logits, axis=1) # shape (batch_size * seq_len,)\n",
        "            \n",
        "            # only compute accuracy at active labels\n",
        "            active_accuracy = labels.view(-1) != -100 \n",
        "            # shape (batch_size, seq_len)\n",
        "        \n",
        "            labels = torch.masked_select(flattened_targets, active_accuracy)\n",
        "            predictions = torch.masked_select(flattened_predictions, active_accuracy)\n",
        "            \n",
        "            eval_labels.extend(labels)\n",
        "            eval_preds.extend(predictions)\n",
        "            \n",
        "            tmp_eval_accuracy = accuracy_score(labels.cpu().numpy(), predictions.cpu().numpy())\n",
        "            eval_accuracy += tmp_eval_accuracy\n",
        "\n",
        "    labels = [ids_to_labels[id.item()] for id in eval_labels]\n",
        "    predictions = [ids_to_labels[id.item()] for id in eval_preds]\n",
        "    \n",
        "    eval_loss = eval_loss / nb_eval_steps\n",
        "    eval_accuracy = eval_accuracy / nb_eval_steps\n",
        "    print(f\"Validation Loss: {eval_loss}\")\n",
        "    print(f\"Validation Accuracy: {eval_accuracy}\")\n",
        "\n",
        "    return labels, predictions"
      ]
    },
    {
      "cell_type": "code",
      "execution_count": null,
      "metadata": {
        "id": "no7Ml1rsZkPd"
      },
      "outputs": [],
      "source": [
        "from torch.utils.data import Dataset, DataLoader \n",
        "testing_loader = DataLoader\n",
        "VALID_BATCH_SIZE = 4\n",
        "test_params = {'batch_size': VALID_BATCH_SIZE,\n",
        "                'shuffle': True,\n",
        "                'num_workers': 0\n",
        "                }\n",
        "labels, predictions = valid(model, testing_loader)"
      ]
    },
    {
      "cell_type": "code",
      "execution_count": null,
      "metadata": {
        "id": "Y9ri_tBSZk2C"
      },
      "outputs": [],
      "source": [
        "from seqeval.metrics import classification_report\n",
        "\n",
        "print(classification_report(labels, predictions))"
      ]
    }
  ],
  "metadata": {
    "accelerator": "GPU",
    "colab": {
      "collapsed_sections": [],
      "name": "NER with BERT.ipynb",
      "provenance": [],
      "include_colab_link": true
    },
    "kernelspec": {
      "display_name": "Python 3",
      "name": "python3"
    },
    "language_info": {
      "name": "python"
    },
    "widgets": {
      "application/vnd.jupyter.widget-state+json": {
        "c1192d3887b048588f8576d733eeea82": {
          "model_module": "@jupyter-widgets/controls",
          "model_name": "HBoxModel",
          "model_module_version": "1.5.0",
          "state": {
            "_view_name": "HBoxView",
            "_dom_classes": [],
            "_model_name": "HBoxModel",
            "_view_module": "@jupyter-widgets/controls",
            "_model_module_version": "1.5.0",
            "_view_count": null,
            "_view_module_version": "1.5.0",
            "box_style": "",
            "layout": "IPY_MODEL_03c8b79a73ec4bb7ade84efbbfb5aaf8",
            "_model_module": "@jupyter-widgets/controls",
            "children": [
              "IPY_MODEL_74db779f48af4bef85d56f2218693b74",
              "IPY_MODEL_367ae005a52e4bc19f6c1d64a005c241",
              "IPY_MODEL_0838ebaf2b1d4a3b8407605df830e98f"
            ]
          }
        },
        "03c8b79a73ec4bb7ade84efbbfb5aaf8": {
          "model_module": "@jupyter-widgets/base",
          "model_name": "LayoutModel",
          "model_module_version": "1.2.0",
          "state": {
            "_view_name": "LayoutView",
            "grid_template_rows": null,
            "right": null,
            "justify_content": null,
            "_view_module": "@jupyter-widgets/base",
            "overflow": null,
            "_model_module_version": "1.2.0",
            "_view_count": null,
            "flex_flow": null,
            "width": null,
            "min_width": null,
            "border": null,
            "align_items": null,
            "bottom": null,
            "_model_module": "@jupyter-widgets/base",
            "top": null,
            "grid_column": null,
            "overflow_y": null,
            "overflow_x": null,
            "grid_auto_flow": null,
            "grid_area": null,
            "grid_template_columns": null,
            "flex": null,
            "_model_name": "LayoutModel",
            "justify_items": null,
            "grid_row": null,
            "max_height": null,
            "align_content": null,
            "visibility": null,
            "align_self": null,
            "height": null,
            "min_height": null,
            "padding": null,
            "grid_auto_rows": null,
            "grid_gap": null,
            "max_width": null,
            "order": null,
            "_view_module_version": "1.2.0",
            "grid_template_areas": null,
            "object_position": null,
            "object_fit": null,
            "grid_auto_columns": null,
            "margin": null,
            "display": null,
            "left": null
          }
        },
        "74db779f48af4bef85d56f2218693b74": {
          "model_module": "@jupyter-widgets/controls",
          "model_name": "HTMLModel",
          "model_module_version": "1.5.0",
          "state": {
            "_view_name": "HTMLView",
            "style": "IPY_MODEL_8dbf0632702345eab639e7fff595734a",
            "_dom_classes": [],
            "description": "",
            "_model_name": "HTMLModel",
            "placeholder": "​",
            "_view_module": "@jupyter-widgets/controls",
            "_model_module_version": "1.5.0",
            "value": " 15%",
            "_view_count": null,
            "_view_module_version": "1.5.0",
            "description_tooltip": null,
            "_model_module": "@jupyter-widgets/controls",
            "layout": "IPY_MODEL_09542c42e3a44fb6922b1f8b632a9238"
          }
        },
        "367ae005a52e4bc19f6c1d64a005c241": {
          "model_module": "@jupyter-widgets/controls",
          "model_name": "FloatProgressModel",
          "model_module_version": "1.5.0",
          "state": {
            "_view_name": "ProgressView",
            "style": "IPY_MODEL_20ff429b843e417b98689962ecac52de",
            "_dom_classes": [],
            "description": "",
            "_model_name": "FloatProgressModel",
            "bar_style": "",
            "max": 20408553,
            "_view_module": "@jupyter-widgets/controls",
            "_model_module_version": "1.5.0",
            "value": 3142117,
            "_view_count": null,
            "_view_module_version": "1.5.0",
            "orientation": "horizontal",
            "min": 0,
            "description_tooltip": null,
            "_model_module": "@jupyter-widgets/controls",
            "layout": "IPY_MODEL_2f9ef8c9d4a3488b85c139bb2147585e"
          }
        },
        "0838ebaf2b1d4a3b8407605df830e98f": {
          "model_module": "@jupyter-widgets/controls",
          "model_name": "HTMLModel",
          "model_module_version": "1.5.0",
          "state": {
            "_view_name": "HTMLView",
            "style": "IPY_MODEL_beb1b0f0d93e412c9b61f0b4d57b4b5a",
            "_dom_classes": [],
            "description": "",
            "_model_name": "HTMLModel",
            "placeholder": "​",
            "_view_module": "@jupyter-widgets/controls",
            "_model_module_version": "1.5.0",
            "value": " 3142117/20408553 [00:12&lt;01:50, 156854.85it/s]",
            "_view_count": null,
            "_view_module_version": "1.5.0",
            "description_tooltip": null,
            "_model_module": "@jupyter-widgets/controls",
            "layout": "IPY_MODEL_f7786dbbc22f4886a6283053fb17362c"
          }
        },
        "8dbf0632702345eab639e7fff595734a": {
          "model_module": "@jupyter-widgets/controls",
          "model_name": "DescriptionStyleModel",
          "model_module_version": "1.5.0",
          "state": {
            "_view_name": "StyleView",
            "_model_name": "DescriptionStyleModel",
            "description_width": "",
            "_view_module": "@jupyter-widgets/base",
            "_model_module_version": "1.5.0",
            "_view_count": null,
            "_view_module_version": "1.2.0",
            "_model_module": "@jupyter-widgets/controls"
          }
        },
        "09542c42e3a44fb6922b1f8b632a9238": {
          "model_module": "@jupyter-widgets/base",
          "model_name": "LayoutModel",
          "model_module_version": "1.2.0",
          "state": {
            "_view_name": "LayoutView",
            "grid_template_rows": null,
            "right": null,
            "justify_content": null,
            "_view_module": "@jupyter-widgets/base",
            "overflow": null,
            "_model_module_version": "1.2.0",
            "_view_count": null,
            "flex_flow": null,
            "width": null,
            "min_width": null,
            "border": null,
            "align_items": null,
            "bottom": null,
            "_model_module": "@jupyter-widgets/base",
            "top": null,
            "grid_column": null,
            "overflow_y": null,
            "overflow_x": null,
            "grid_auto_flow": null,
            "grid_area": null,
            "grid_template_columns": null,
            "flex": null,
            "_model_name": "LayoutModel",
            "justify_items": null,
            "grid_row": null,
            "max_height": null,
            "align_content": null,
            "visibility": null,
            "align_self": null,
            "height": null,
            "min_height": null,
            "padding": null,
            "grid_auto_rows": null,
            "grid_gap": null,
            "max_width": null,
            "order": null,
            "_view_module_version": "1.2.0",
            "grid_template_areas": null,
            "object_position": null,
            "object_fit": null,
            "grid_auto_columns": null,
            "margin": null,
            "display": null,
            "left": null
          }
        },
        "20ff429b843e417b98689962ecac52de": {
          "model_module": "@jupyter-widgets/controls",
          "model_name": "ProgressStyleModel",
          "model_module_version": "1.5.0",
          "state": {
            "_view_name": "StyleView",
            "_model_name": "ProgressStyleModel",
            "description_width": "",
            "_view_module": "@jupyter-widgets/base",
            "_model_module_version": "1.5.0",
            "_view_count": null,
            "_view_module_version": "1.2.0",
            "bar_color": null,
            "_model_module": "@jupyter-widgets/controls"
          }
        },
        "2f9ef8c9d4a3488b85c139bb2147585e": {
          "model_module": "@jupyter-widgets/base",
          "model_name": "LayoutModel",
          "model_module_version": "1.2.0",
          "state": {
            "_view_name": "LayoutView",
            "grid_template_rows": null,
            "right": null,
            "justify_content": null,
            "_view_module": "@jupyter-widgets/base",
            "overflow": null,
            "_model_module_version": "1.2.0",
            "_view_count": null,
            "flex_flow": null,
            "width": null,
            "min_width": null,
            "border": null,
            "align_items": null,
            "bottom": null,
            "_model_module": "@jupyter-widgets/base",
            "top": null,
            "grid_column": null,
            "overflow_y": null,
            "overflow_x": null,
            "grid_auto_flow": null,
            "grid_area": null,
            "grid_template_columns": null,
            "flex": null,
            "_model_name": "LayoutModel",
            "justify_items": null,
            "grid_row": null,
            "max_height": null,
            "align_content": null,
            "visibility": null,
            "align_self": null,
            "height": null,
            "min_height": null,
            "padding": null,
            "grid_auto_rows": null,
            "grid_gap": null,
            "max_width": null,
            "order": null,
            "_view_module_version": "1.2.0",
            "grid_template_areas": null,
            "object_position": null,
            "object_fit": null,
            "grid_auto_columns": null,
            "margin": null,
            "display": null,
            "left": null
          }
        },
        "beb1b0f0d93e412c9b61f0b4d57b4b5a": {
          "model_module": "@jupyter-widgets/controls",
          "model_name": "DescriptionStyleModel",
          "model_module_version": "1.5.0",
          "state": {
            "_view_name": "StyleView",
            "_model_name": "DescriptionStyleModel",
            "description_width": "",
            "_view_module": "@jupyter-widgets/base",
            "_model_module_version": "1.5.0",
            "_view_count": null,
            "_view_module_version": "1.2.0",
            "_model_module": "@jupyter-widgets/controls"
          }
        },
        "f7786dbbc22f4886a6283053fb17362c": {
          "model_module": "@jupyter-widgets/base",
          "model_name": "LayoutModel",
          "model_module_version": "1.2.0",
          "state": {
            "_view_name": "LayoutView",
            "grid_template_rows": null,
            "right": null,
            "justify_content": null,
            "_view_module": "@jupyter-widgets/base",
            "overflow": null,
            "_model_module_version": "1.2.0",
            "_view_count": null,
            "flex_flow": null,
            "width": null,
            "min_width": null,
            "border": null,
            "align_items": null,
            "bottom": null,
            "_model_module": "@jupyter-widgets/base",
            "top": null,
            "grid_column": null,
            "overflow_y": null,
            "overflow_x": null,
            "grid_auto_flow": null,
            "grid_area": null,
            "grid_template_columns": null,
            "flex": null,
            "_model_name": "LayoutModel",
            "justify_items": null,
            "grid_row": null,
            "max_height": null,
            "align_content": null,
            "visibility": null,
            "align_self": null,
            "height": null,
            "min_height": null,
            "padding": null,
            "grid_auto_rows": null,
            "grid_gap": null,
            "max_width": null,
            "order": null,
            "_view_module_version": "1.2.0",
            "grid_template_areas": null,
            "object_position": null,
            "object_fit": null,
            "grid_auto_columns": null,
            "margin": null,
            "display": null,
            "left": null
          }
        }
      }
    }
  },
  "nbformat": 4,
  "nbformat_minor": 0
}